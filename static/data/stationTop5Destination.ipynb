{
 "cells": [
  {
   "cell_type": "code",
   "execution_count": 136,
   "id": "26028a7e-58fe-456f-b85f-03fac80a1486",
   "metadata": {},
   "outputs": [],
   "source": [
    "# Dependencies\n",
    "import json\n",
    "import requests \n",
    "import pandas as pd\n",
    "from pprint import pprint"
   ]
  },
  {
   "cell_type": "code",
   "execution_count": 137,
   "id": "3cb772ad-696a-45af-8984-55d7b38f407c",
   "metadata": {},
   "outputs": [],
   "source": [
    "# Specify the API URL\n",
    "url = \"http://127.0.0.1:5000/api/data\"\n",
    "\n",
    "# Make request and store response\n",
    "response = requests.get(url)\n",
    "response_json = response.json()"
   ]
  },
  {
   "cell_type": "code",
   "execution_count": 138,
   "id": "09de7483-c662-40d9-9839-0166f0b9f2ba",
   "metadata": {},
   "outputs": [],
   "source": [
    "# Save information to dataframe\n",
    "summary = pd.DataFrame(response_json)"
   ]
  },
  {
   "cell_type": "code",
   "execution_count": 139,
   "id": "5dfcde08-e1b3-4302-beae-a50e8f30f223",
   "metadata": {},
   "outputs": [
    {
     "data": {
      "text/html": [
       "<div>\n",
       "<style scoped>\n",
       "    .dataframe tbody tr th:only-of-type {\n",
       "        vertical-align: middle;\n",
       "    }\n",
       "\n",
       "    .dataframe tbody tr th {\n",
       "        vertical-align: top;\n",
       "    }\n",
       "\n",
       "    .dataframe thead th {\n",
       "        text-align: right;\n",
       "    }\n",
       "</style>\n",
       "<table border=\"1\" class=\"dataframe\">\n",
       "  <thead>\n",
       "    <tr style=\"text-align: right;\">\n",
       "      <th></th>\n",
       "      <th>lat</th>\n",
       "      <th>lon</th>\n",
       "      <th>station</th>\n",
       "      <th>station_number</th>\n",
       "    </tr>\n",
       "  </thead>\n",
       "  <tbody>\n",
       "    <tr>\n",
       "      <th>0</th>\n",
       "      <td>51.490435</td>\n",
       "      <td>-0.122806</td>\n",
       "      <td>Albert Embankment, Vauxhall</td>\n",
       "      <td>1059</td>\n",
       "    </tr>\n",
       "    <tr>\n",
       "      <th>1</th>\n",
       "      <td>51.527025</td>\n",
       "      <td>-0.088542</td>\n",
       "      <td>Baldwin Street, St. Luke's</td>\n",
       "      <td>3500</td>\n",
       "    </tr>\n",
       "    <tr>\n",
       "      <th>2</th>\n",
       "      <td>51.485357</td>\n",
       "      <td>-0.142207</td>\n",
       "      <td>Grosvenor Road, Pimlico</td>\n",
       "      <td>1140</td>\n",
       "    </tr>\n",
       "    <tr>\n",
       "      <th>3</th>\n",
       "      <td>51.488124</td>\n",
       "      <td>-0.120903</td>\n",
       "      <td>Vauxhall Walk, Vauxhall</td>\n",
       "      <td>200056</td>\n",
       "    </tr>\n",
       "    <tr>\n",
       "      <th>4</th>\n",
       "      <td>51.490867</td>\n",
       "      <td>-0.116911</td>\n",
       "      <td>Black Prince Road, Vauxhall</td>\n",
       "      <td>1205</td>\n",
       "    </tr>\n",
       "  </tbody>\n",
       "</table>\n",
       "</div>"
      ],
      "text/plain": [
       "         lat       lon                      station  station_number\n",
       "0  51.490435 -0.122806  Albert Embankment, Vauxhall            1059\n",
       "1  51.527025 -0.088542   Baldwin Street, St. Luke's            3500\n",
       "2  51.485357 -0.142207      Grosvenor Road, Pimlico            1140\n",
       "3  51.488124 -0.120903      Vauxhall Walk, Vauxhall          200056\n",
       "4  51.490867 -0.116911  Black Prince Road, Vauxhall            1205"
      ]
     },
     "execution_count": 139,
     "metadata": {},
     "output_type": "execute_result"
    }
   ],
   "source": [
    "# Create a dictionary of stations\n",
    "destinationsUnclean = summary.drop_duplicates(subset=[\"End_station\", \"End_station_number\"])\n",
    "destinationsUnclean2 = destinationsUnclean.drop(columns=[\"Bike_model\", \"Bike_number\", \"End_date\", \"Number\", \"Start_date\", \"Start_lat\", \"Start_lon\", \"Start_station\", \"Start_station_number\", \"Total_duration\", \"Total_duration_ms\"])\n",
    "destinations = destinationsUnclean2.rename(columns={\"End_lat\": \"lat\", \"End_lon\": \"lon\", \"End_station\": \"station\", \"End_station_number\": \"station_number\"})\n",
    "destinations = destinations.reset_index(drop=True)\n",
    "destinations.head()"
   ]
  },
  {
   "cell_type": "code",
   "execution_count": 140,
   "id": "3e396621-8e51-4468-a295-21f405207dd9",
   "metadata": {},
   "outputs": [],
   "source": [
    "# Create empty list to fill with corresponding bike end/start station\n",
    "destinationPath = {}\n",
    "\n",
    "for i in range(len(destinations)):\n",
    "    updateDestination = destinations[\"station\"][i]\n",
    "    destinationPath.update({updateDestination: []})"
   ]
  },
  {
   "cell_type": "code",
   "execution_count": 141,
   "id": "cb0717d5-402a-4740-9068-3bade7de79f3",
   "metadata": {},
   "outputs": [],
   "source": [
    "# For every station in the list, note what the corresponding end/start station is for each ride\n",
    "for path in destinationPath:\n",
    "\n",
    "    for n in range(len(summary)):\n",
    "        if summary[\"End_station\"][n] == path:\n",
    "            destinationPath[path] += [summary[\"Start_station\"][n]]\n",
    "        elif summary[\"Start_station\"][n] == path:\n",
    "            destinationPath[path] += [summary[\"End_station\"][n]]"
   ]
  },
  {
   "cell_type": "code",
   "execution_count": 146,
   "id": "4a4b065f-7f0d-4528-988d-c6c94fcef7a6",
   "metadata": {},
   "outputs": [],
   "source": [
    "# For every station, count the number of times each end/start station occurs and take the top 5 for each.\n",
    "topDestinationPath = []\n",
    "\n",
    "for i in destinationPath:\n",
    "\n",
    "    update = {\"baseStation\": i, \"pathStation\": [], \"pathStationCount\": []}\n",
    "    count = pd.Series(destinationPath[i]).value_counts()\n",
    "    top5 = count.to_frame().head(5).reset_index().rename(columns={\"index\": \"station\"})\n",
    "    \n",
    "    for n in range(len(top5)):\n",
    "        update[\"pathStation\"].append(top5[\"station\"][n])\n",
    "        update[\"pathStationCount\"].append(int(top5[\"count\"][n]))\n",
    "\n",
    "    topDestinationPath.append(update)"
   ]
  },
  {
   "cell_type": "code",
   "execution_count": 148,
   "id": "af397d4e-93c1-47d9-a750-ee1b50268c8b",
   "metadata": {},
   "outputs": [],
   "source": [
    "with open('stationTop5Destination.json', 'w') as f:\n",
    "    json.dump(topDestinationPath, f)"
   ]
  }
 ],
 "metadata": {
  "kernelspec": {
   "display_name": "Python 3 (ipykernel)",
   "language": "python",
   "name": "python3"
  },
  "language_info": {
   "codemirror_mode": {
    "name": "ipython",
    "version": 3
   },
   "file_extension": ".py",
   "mimetype": "text/x-python",
   "name": "python",
   "nbconvert_exporter": "python",
   "pygments_lexer": "ipython3",
   "version": "3.11.7"
  }
 },
 "nbformat": 4,
 "nbformat_minor": 5
}
