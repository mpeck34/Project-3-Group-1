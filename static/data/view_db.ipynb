{
 "cells": [
  {
   "cell_type": "code",
   "execution_count": 1,
   "metadata": {},
   "outputs": [
    {
     "name": "stdout",
     "output_type": "stream",
     "text": [
      "Header of the table:\n",
      "  Bike_model  Bike_number       End_date    End_lat   End_lon  \\\n",
      "0    CLASSIC        23715  8/1/2023 0:17  51.490435 -0.122806   \n",
      "1    CLASSIC        41267  8/1/2023 0:17  51.490435 -0.122806   \n",
      "2    CLASSIC        53180  8/1/2023 0:11  51.527025 -0.088542   \n",
      "3    CLASSIC        53431  8/1/2023 0:12  51.485357 -0.142207   \n",
      "4    CLASSIC        54758  8/1/2023 0:17  51.488124 -0.120903   \n",
      "\n",
      "                   End_station  End_station_number     Number     Start_date  \\\n",
      "0  Albert Embankment, Vauxhall                1059  132825189  8/1/2023 0:00   \n",
      "1  Albert Embankment, Vauxhall                1059  132825190  8/1/2023 0:00   \n",
      "2   Baldwin Street, St. Luke's                3500  132825191  8/1/2023 0:00   \n",
      "3      Grosvenor Road, Pimlico                1140  132825192  8/1/2023 0:01   \n",
      "4      Vauxhall Walk, Vauxhall              200056  132825193  8/1/2023 0:01   \n",
      "\n",
      "   Start_lat Start_lon                          Start_station  \\\n",
      "0  51.486343 -0.122492  Kennington Lane Rail Bridge, Vauxhall   \n",
      "1  51.486343 -0.122492  Kennington Lane Rail Bridge, Vauxhall   \n",
      "2  51.526236 -0.134407                    Euston Road, Euston   \n",
      "3  51.490945  -0.18119    Old Brompton Road, South Kensington   \n",
      "4  51.500139 -0.113936                  Lower Marsh, Waterloo   \n",
      "\n",
      "   Start_station_number Total_duration  Total_duration_ms  \n",
      "0                  1190        16m 46s            1006663  \n",
      "1                  1190        16m 47s            1007128  \n",
      "2                   983         11m 6s             666395  \n",
      "3                  3479        11m 53s             713059  \n",
      "4                  1219         16m 3s             963786  \n"
     ]
    }
   ],
   "source": [
    "import requests\n",
    "import pandas as pd\n",
    "\n",
    "# Define the API endpoint\n",
    "api_url = \"http://127.0.0.1:5000/api/data\"\n",
    "\n",
    "# Call the API\n",
    "try:\n",
    "    response = requests.get(api_url, timeout=10)\n",
    "\n",
    "    # Check if the response is successful\n",
    "    if response.status_code == 200:\n",
    "        data = response.json()\n",
    "        bike_df = pd.DataFrame(data)\n",
    "        print(\"Header of the table:\")\n",
    "        print(bike_df.head())\n",
    "    else:\n",
    "        print(f\"Failed to retrieve data. Status code: {response.status_code}\")\n",
    "except requests.exceptions.RequestException as e:\n",
    "    print(f\"Error occurred: {e}\")"
   ]
  },
  {
   "cell_type": "code",
   "execution_count": 4,
   "metadata": {},
   "outputs": [
    {
     "name": "stdout",
     "output_type": "stream",
     "text": [
      "     Bike_model  Bike_number       End_date    End_lat   End_lon  \\\n",
      "7    PBSC_EBIKE        61178  8/1/2023 1:04  51.494645 -0.158105   \n",
      "11   PBSC_EBIKE        60408  8/1/2023 0:13  51.506946 -0.058681   \n",
      "24   PBSC_EBIKE        60448  8/1/2023 0:38  51.541793  -0.00481   \n",
      "50   PBSC_EBIKE        60528  8/1/2023 0:20  51.504627 -0.091773   \n",
      "51   PBSC_EBIKE        60612  8/1/2023 0:23  51.515117 -0.173712   \n",
      "..          ...          ...            ...        ...       ...   \n",
      "875  PBSC_EBIKE        60586  8/1/2023 6:51  51.509351 -0.147449   \n",
      "877  PBSC_EBIKE        60249  8/1/2023 6:40  51.515418  -0.09885   \n",
      "879  PBSC_EBIKE        60274  8/1/2023 6:44  51.515937 -0.111778   \n",
      "886  PBSC_EBIKE        60476  8/1/2023 6:43  51.472876 -0.176267   \n",
      "897  PBSC_EBIKE        60202  8/1/2023 6:56  51.511246 -0.093051   \n",
      "\n",
      "                      End_station  End_station_number     Number  \\\n",
      "7    Cadogan Place, Knightsbridge                3469  132825196   \n",
      "11        Reardon Street, Wapping               22176  132825200   \n",
      "24   Stratford Station, Stratford              300234  132825216   \n",
      "50      Hop Exchange, The Borough                 960  132825242   \n",
      "51      London Street, Paddington              300079  132825243   \n",
      "..                            ...                 ...        ...   \n",
      "875          Farm Street, Mayfair                2678  132826066   \n",
      "877   Newgate Street , St. Paul's                1074  132826083   \n",
      "879     Breams Buildings, Holborn                3449  132826085   \n",
      "886  Vicarage Crescent, Battersea              200077  132826092   \n",
      "897          Queen Street 2, Bank              200128  132826102   \n",
      "\n",
      "        Start_date  Start_lat Start_lon                         Start_station  \\\n",
      "7    8/1/2023 0:01  51.541515 -0.038557          Gascoyne Road, Victoria Park   \n",
      "11   8/1/2023 0:02  51.525645 -0.069543             Granby Street, Shoreditch   \n",
      "24   8/1/2023 0:07  51.503791 -0.112824          Waterloo Station 3, Waterloo   \n",
      "50   8/1/2023 0:14  51.489102 -0.091548              Brandon Street, Walworth   \n",
      "51   8/1/2023 0:14  51.515117 -0.173712             London Street, Paddington   \n",
      "..             ...        ...       ...                                   ...   \n",
      "875  8/1/2023 6:27  51.487285 -0.217995   Charing Cross Hospital, Hammersmith   \n",
      "877  8/1/2023 6:28   51.51328 -0.047784               Albert Gardens, Stepney   \n",
      "879  8/1/2023 6:28  51.521889  -0.04667        Stepney Green Station, Stepney   \n",
      "886  8/1/2023 6:28  51.481335 -0.138212           Riverlight South, Nine Elms   \n",
      "897  8/1/2023 6:29  51.475089 -0.201968  Parsons Green Station, Parsons Green   \n",
      "\n",
      "     Start_station_number Total_duration  Total_duration_ms  \n",
      "7                  200155      1h 2m 58s            3778515  \n",
      "11                  22174        10m 43s             643340  \n",
      "24                   1072         31m 7s            1867040  \n",
      "50                 300060         6m 12s             372855  \n",
      "51                 300079         9m 11s             551569  \n",
      "..                    ...            ...                ...  \n",
      "875                300018         24m 4s            1444140  \n",
      "877                 22166        12m 30s             750629  \n",
      "879                200012        15m 43s             943231  \n",
      "886                300232        14m 15s             855139  \n",
      "897                300052        26m 53s            1613792  \n",
      "\n",
      "[100 rows x 15 columns]\n"
     ]
    }
   ],
   "source": [
    "print(bike_df[bike_df['Bike_model'] != \"CLASSIC\"].head(100))"
   ]
  },
  {
   "cell_type": "code",
   "execution_count": null,
   "metadata": {},
   "outputs": [],
   "source": []
  }
 ],
 "metadata": {
  "kernelspec": {
   "display_name": "dev",
   "language": "python",
   "name": "python3"
  },
  "language_info": {
   "codemirror_mode": {
    "name": "ipython",
    "version": 3
   },
   "file_extension": ".py",
   "mimetype": "text/x-python",
   "name": "python",
   "nbconvert_exporter": "python",
   "pygments_lexer": "ipython3",
   "version": "3.10.13"
  }
 },
 "nbformat": 4,
 "nbformat_minor": 2
}
