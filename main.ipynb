{
 "cells": [
  {
   "cell_type": "code",
   "execution_count": 5,
   "metadata": {},
   "outputs": [
    {
     "name": "stdout",
     "output_type": "stream",
     "text": [
      "Header of the table:\n",
      "  Bike_model  Bike_number       End_date                  End_station  \\\n",
      "0    CLASSIC        23715  8/1/2023 0:17  Albert Embankment, Vauxhall   \n",
      "1    CLASSIC        41267  8/1/2023 0:17  Albert Embankment, Vauxhall   \n",
      "2    CLASSIC        53180  8/1/2023 0:11   Baldwin Street, St. Luke's   \n",
      "3    CLASSIC        53431  8/1/2023 0:12      Grosvenor Road, Pimlico   \n",
      "4    CLASSIC        54758  8/1/2023 0:17      Vauxhall Walk, Vauxhall   \n",
      "\n",
      "   End_station_number     Number     Start_date  \\\n",
      "0                1059  132825189  8/1/2023 0:00   \n",
      "1                1059  132825190  8/1/2023 0:00   \n",
      "2                3500  132825191  8/1/2023 0:00   \n",
      "3                1140  132825192  8/1/2023 0:01   \n",
      "4              200056  132825193  8/1/2023 0:01   \n",
      "\n",
      "                           Start_station  Start_station_number Total_duration  \\\n",
      "0  Kennington Lane Rail Bridge, Vauxhall                  1190        16m 46s   \n",
      "1  Kennington Lane Rail Bridge, Vauxhall                  1190        16m 47s   \n",
      "2                    Euston Road, Euston                   983         11m 6s   \n",
      "3    Old Brompton Road, South Kensington                  3479        11m 53s   \n",
      "4                  Lower Marsh, Waterloo                  1219         16m 3s   \n",
      "\n",
      "   Total_duration_ms  \n",
      "0            1006663  \n",
      "1            1007128  \n",
      "2             666395  \n",
      "3             713059  \n",
      "4             963786  \n"
     ]
    }
   ],
   "source": [
    "import requests\n",
    "import pandas as pd\n",
    "\n",
    "# Define the API endpoint\n",
    "api_url = \"http://127.0.0.1:5000/api/data\"\n",
    "\n",
    "# Call the API\n",
    "try:\n",
    "    response = requests.get(api_url, timeout=10)\n",
    "\n",
    "    # Check if the response is successful\n",
    "    if response.status_code == 200:\n",
    "        data = response.json()\n",
    "        df = pd.DataFrame(data)\n",
    "        print(\"Header of the table:\")\n",
    "        print(df.head())\n",
    "    else:\n",
    "        print(f\"Failed to retrieve data. Status code: {response.status_code}\")\n",
    "except requests.exceptions.RequestException as e:\n",
    "    print(f\"Error occurred: {e}\")"
   ]
  },
  {
   "cell_type": "code",
   "execution_count": null,
   "metadata": {},
   "outputs": [],
   "source": []
  }
 ],
 "metadata": {
  "kernelspec": {
   "display_name": "dev",
   "language": "python",
   "name": "python3"
  },
  "language_info": {
   "codemirror_mode": {
    "name": "ipython",
    "version": 3
   },
   "file_extension": ".py",
   "mimetype": "text/x-python",
   "name": "python",
   "nbconvert_exporter": "python",
   "pygments_lexer": "ipython3",
   "version": "3.10.13"
  }
 },
 "nbformat": 4,
 "nbformat_minor": 2
}
