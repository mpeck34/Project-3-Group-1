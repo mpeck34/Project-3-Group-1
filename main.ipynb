{
 "cells": [
  {
   "cell_type": "code",
   "execution_count": null,
   "metadata": {},
   "outputs": [],
   "source": [
    "import sqlite3\n",
    "import csv\n",
    "\n",
    "# Connect to SQLite database\n",
    "conn = sqlite3.connect('example.db')\n",
    "cursor = conn.cursor()\n",
    "\n",
    "# Create table if it doesn't exist\n",
    "cursor.execute('''CREATE TABLE IF NOT EXISTS my_table (\n",
    "                    column1 TEXT,\n",
    "                    column2 INTEGER,\n",
    "                    column3 REAL\n",
    "                )''')\n",
    "\n",
    "# Read data from CSV and insert into the table\n",
    "with open('data.csv', 'r', newline='') as csv_file:\n",
    "    csv_reader = csv.reader(csv_file)\n",
    "    next(csv_reader)  # Skip header row if exists\n",
    "    for row in csv_reader:\n",
    "        cursor.execute(\"INSERT INTO my_table VALUES (?, ?, ?)\", row)\n",
    "\n",
    "# Commit changes and close connection\n",
    "conn.commit()\n",
    "conn.close()\n",
    "\n"
   ]
  }
 ],
 "metadata": {
  "language_info": {
   "name": "python"
  }
 },
 "nbformat": 4,
 "nbformat_minor": 2
}
